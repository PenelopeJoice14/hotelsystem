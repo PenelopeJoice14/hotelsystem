{
 "cells": [
  {
   "cell_type": "markdown",
   "metadata": {},
   "source": [
    "# Hotel Booking System \n",
    "- By: Emorecha, Gucio, Lambojo, Lapiz"
   ]
  },
  {
   "cell_type": "markdown",
   "metadata": {},
   "source": [
    "# Main Story\n",
    "\n",
    "### As a user, I can book hotel rooms by: \n",
    "\n",
    "- Selecting booking dates, \n",
    "\n",
    "- Selecting number of guests, \n",
    "\n",
    "- Selecting the type of room, \n",
    "\n",
    "- Inputting number of rooms "
   ]
  },
  {
   "cell_type": "markdown",
   "metadata": {},
   "source": [
    "### Testers: \n",
    "- Gucio, Maria Angelica\n",
    "- Lapiz, Penelope Joice"
   ]
  },
  {
   "cell_type": "markdown",
   "metadata": {},
   "source": [
    "# Scenario 1\n",
    "- C1: If the booking dates are available \n",
    "\n",
    "- C2: If the selected number of guests does not exceed the 5 guests limit per room \n",
    "\n",
    "- C3: If the selected type of room is available \n",
    "\n",
    "- C4: If the selected number of rooms is available "
   ]
  },
  {
   "cell_type": "code",
   "execution_count": 332,
   "metadata": {},
   "outputs": [
    {
     "name": "stderr",
     "output_type": "stream",
     "text": [
      ".\n",
      "----------------------------------------------------------------------\n",
      "Ran 1 test in 0.002s\n",
      "\n",
      "OK\n"
     ]
    },
    {
     "data": {
      "text/plain": [
       "<unittest.runner.TextTestResult run=1 errors=0 failures=0>"
      ]
     },
     "execution_count": 332,
     "metadata": {},
     "output_type": "execute_result"
    }
   ],
   "source": [
    "#put unit test for each scenario here\n",
    "\n",
    "import unittest\n",
    "\n",
    "class TestBookScenario1(unittest.TestCase):\n",
    "  def test_book_scenario1(self):\n",
    "    user = '1'\n",
    "    date = 'December 2, 2021'\n",
    "    guests = 5\n",
    "    room = 'Double'\n",
    "    noOfRoom = 1\n",
    "    self.assertEqual(book(user, date, guests, room, noOfRoom), True)\n",
    "    \n",
    "    \n",
    "suite = unittest.TestLoader().loadTestsFromTestCase(TestBookScenario1)\n",
    "unittest.TextTestRunner().run(suite)"
   ]
  },
  {
   "cell_type": "markdown",
   "metadata": {},
   "source": [
    "# Scenario 2\n",
    "- C1: **If the booking dates are not available**\n",
    "\n",
    "- C2: If the selected number of guests does not exceed the 5 guests limit per room \n",
    "\n",
    "- C3: If the selected type of room is available \n",
    "\n",
    "- C4: If the selected number of rooms is available "
   ]
  },
  {
   "cell_type": "code",
   "execution_count": 316,
   "metadata": {},
   "outputs": [],
   "source": [
    "#put unit test for each scenario here"
   ]
  },
  {
   "cell_type": "markdown",
   "metadata": {},
   "source": [
    "# Scenario 3\n",
    "- C1: If the booking dates are available \n",
    "\n",
    "- C2: **If the selected number of guests exceeds the 5 guests limit per room** \n",
    "\n",
    "- C3: If the selected type of room is available, \n",
    "\n",
    "- C4: If the selected number of rooms is available"
   ]
  },
  {
   "cell_type": "code",
   "execution_count": 317,
   "metadata": {},
   "outputs": [],
   "source": [
    "#put unit test for each scenario here"
   ]
  },
  {
   "cell_type": "markdown",
   "metadata": {},
   "source": [
    "# Scenario 4\n",
    "- C1: If the booking dates are available \n",
    "\n",
    "- C2: If the selected number of guests does not exceed the 5 guests limit per room \n",
    "\n",
    "- C3: **If the selected type of room is not available**\n",
    "\n",
    "- C4: If the selected number of rooms is available \n"
   ]
  },
  {
   "cell_type": "code",
   "execution_count": 318,
   "metadata": {},
   "outputs": [],
   "source": [
    "#put unit test for each scenario here"
   ]
  },
  {
   "cell_type": "markdown",
   "metadata": {},
   "source": [
    "# Scenario 5\n",
    "- C1: If the booking dates are available \n",
    "\n",
    "- C2: If the selected number of guests does not exceed the 5 guests limit per room  \n",
    "\n",
    "- C3: If the selected type of room is available \n",
    "\n",
    "- C4: **If the selected number of rooms exceeds the 2 rooms limit per booking**  "
   ]
  },
  {
   "cell_type": "code",
   "execution_count": 319,
   "metadata": {},
   "outputs": [],
   "source": [
    "#put unit test for each scenario here"
   ]
  },
  {
   "cell_type": "markdown",
   "metadata": {},
   "source": [
    "#### Run the unit tests, make sure result is \"FAILED\""
   ]
  },
  {
   "cell_type": "markdown",
   "metadata": {},
   "source": [
    "# Combine ALL in one test case"
   ]
  },
  {
   "cell_type": "code",
   "execution_count": 321,
   "metadata": {},
   "outputs": [],
   "source": [
    "#compiled test case here"
   ]
  },
  {
   "cell_type": "markdown",
   "metadata": {},
   "source": [
    "### Developers: \n",
    "- Emorecha, Jarry B.\n",
    "- Lambojo, Diane Isabelle M."
   ]
  },
  {
   "cell_type": "code",
   "execution_count": 304,
   "metadata": {},
   "outputs": [],
   "source": [
    "## booking dates == December 2, 2021\n",
    "## no. of guests <= 5 | 10    --- 10 maximum guest if 2 rooms, 5 maximum guest if 1 room \n",
    "## type of room == \"Double\"\n",
    "## no of rooms <= 2\n",
    "\n",
    "\n",
    "\n",
    "def book(user, date, guests, room, noOfRoom):\n",
    "    hotels = [\n",
    "        {\n",
    "            'user' : '1',\n",
    "            'date': 'December 2, 2021', ## date available\n",
    "            'guests': 5,\n",
    "            'room': 'Double', ## type of room available\n",
    "            'noOfRoom' : 2\n",
    "        },\n",
    "        {\n",
    "            'user' : '2',\n",
    "            'date': 'November 20, 2021',\n",
    "            'guests': 4,\n",
    "            'room': 'single',\n",
    "            'noOfRoom' : 1\n",
    "        }\n",
    "    ]\n",
    "    \n",
    "    ## 10 maximum guest if 2 rooms, \n",
    "    ## 5 maximum guest if 1 room \n",
    "    \n",
    "    for hotel in hotels:\n",
    "        if (noOfRoom == 1):\n",
    "            if (guests <= 5):\n",
    "                hotel['guests'] = guests\n",
    "                hotel['noOfRoom'] = noOfRoom\n",
    "        elif(noOfRoom == 2):\n",
    "            if (guests <= 10):\n",
    "                hotel['guests'] = guests\n",
    "                hotel['noOfRoom'] = noOfRoom\n",
    "        if hotel['user'] == user and hotel['date'] == date and hotel['guests'] == guests and hotel['room'] == room and hotel['noOfRoom'] == noOfRoom:\n",
    "            return True\n",
    "        return False"
   ]
  },
  {
   "cell_type": "code",
   "execution_count": null,
   "metadata": {},
   "outputs": [],
   "source": []
  }
 ],
 "metadata": {
  "kernelspec": {
   "display_name": "Python 3",
   "language": "python",
   "name": "python3"
  },
  "language_info": {
   "codemirror_mode": {
    "name": "ipython",
    "version": 3
   },
   "file_extension": ".py",
   "mimetype": "text/x-python",
   "name": "python",
   "nbconvert_exporter": "python",
   "pygments_lexer": "ipython3",
   "version": "3.8.5"
  }
 },
 "nbformat": 4,
 "nbformat_minor": 4
}
